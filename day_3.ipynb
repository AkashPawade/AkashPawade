{
  "nbformat": 4,
  "nbformat_minor": 0,
  "metadata": {
    "colab": {
      "name": "day 3.ipynb",
      "provenance": [],
      "authorship_tag": "ABX9TyNDc6XdjEfkG7MIuskJ6aLW",
      "include_colab_link": true
    },
    "kernelspec": {
      "name": "python3",
      "display_name": "Python 3"
    },
    "language_info": {
      "name": "python"
    }
  },
  "cells": [
    {
      "cell_type": "markdown",
      "metadata": {
        "id": "view-in-github",
        "colab_type": "text"
      },
      "source": [
        "<a href=\"https://colab.research.google.com/github/AkashPawade/AkashPawade/blob/main/day_3.ipynb\" target=\"_parent\"><img src=\"https://colab.research.google.com/assets/colab-badge.svg\" alt=\"Open In Colab\"/></a>"
      ]
    },
    {
      "cell_type": "code",
      "execution_count": 10,
      "metadata": {
        "colab": {
          "base_uri": "https://localhost:8080/"
        },
        "id": "4ttn0TyOyXjM",
        "outputId": "bf5e00b7-dd62-4277-80da-383531f097ec"
      },
      "outputs": [
        {
          "output_type": "stream",
          "name": "stdout",
          "text": [
            "* \r\n",
            "* * \r\n",
            "* * * \r\n",
            "* * * * \r\n",
            "* * * * * \r\n"
          ]
        }
      ],
      "source": [
        "\n",
        "def pypart(n):\n",
        "     \n",
        "\n",
        "    for i in range(0, n):\n",
        "     \n",
        "        for j in range(0, i+1):\n",
        "         \n",
        "            \n",
        "            print(\"* \",end=\"\")\n",
        "      \n",
        "        \n",
        "        print(\"\\r\")\n",
        " \n",
        "\n",
        "n = 5\n",
        "pypart(n)"
      ]
    },
    {
      "cell_type": "code",
      "source": [
        "# Python 3.x code to demonstrate star pattern\n",
        "\n",
        "# Function to demonstrate printing pattern triangle\n",
        "def triangle(n):\n",
        "\t\n",
        "\t# number of spaces\n",
        "\tk = n - 1\n",
        "\n",
        "\t# outer loop to handle number of rows\n",
        "\tfor i in range(0, n):\n",
        "\t\n",
        "\t\t# inner loop to handle number spaces\n",
        "\t\t# values changing acc. to requirement\n",
        "\t\tfor j in range(0, k):\n",
        "\t\t\tprint(end=\" \")\n",
        "\t\n",
        "\t\t# decrementing k after each loop\n",
        "\t\tk = k - 1\n",
        "\t\n",
        "\t\t# inner loop to handle number of columns\n",
        "\t\t# values changing acc. to outer loop\n",
        "\t\tfor j in range(0, i+1):\n",
        "\t\t\n",
        "\t\t\t# printing stars\n",
        "\t\t\tprint(\"* \", end=\"\")\n",
        "\t\n",
        "\t\t# ending line after each row\n",
        "\t\tprint(\"\\r\")\n",
        "\n",
        "# Driver Code\n",
        "n = 5\n",
        "triangle(n)\n"
      ],
      "metadata": {
        "colab": {
          "base_uri": "https://localhost:8080/"
        },
        "id": "jqixaulw2KyP",
        "outputId": "f8dd33f7-1e82-4059-abe0-362be623973a"
      },
      "execution_count": 11,
      "outputs": [
        {
          "output_type": "stream",
          "name": "stdout",
          "text": [
            "    * \r\n",
            "   * * \r\n",
            "  * * * \r\n",
            " * * * * \r\n",
            "* * * * * \r\n"
          ]
        }
      ]
    },
    {
      "cell_type": "code",
      "source": [
        "rows = int(input(\"Enter the number of rows: \"))  \n",
        "  \n",
        "# It is used to print the space  \n",
        "k = 2 * rows - 2  \n",
        "# Outer loop to print number of rows  \n",
        "for i in range(0, rows):  \n",
        "    # Inner loop is used to print number of space  \n",
        "    for j in range(0, k):  \n",
        "        print(end=\" \")  \n",
        "    # Decrement in k after each iteration  \n",
        "    k = k - 1  \n",
        "    # This inner loop is used to print stars  \n",
        "    for j in range(0, i + 1):  \n",
        "        print(\"* \", end=\"\")  \n",
        "    print(\"\")  \n",
        "  \n",
        "# Downward triangle Pyramid  \n",
        "# It is used to print the space  \n",
        "k = rows - 2  \n",
        "# Output for downward triangle pyramid  \n",
        "for i in range(rows, -1, -1):  \n",
        "    # inner loop will print the spaces  \n",
        "    for j in range(k, 0, -1):  \n",
        "        print(end=\" \")  \n",
        "    # Increment in k after each iteration  \n",
        "    k = k + 1  \n",
        "    # This inner loop will print number of stars  \n",
        "    for j in range(0, i + 1):  \n",
        "        print(\"* \", end=\"\")  \n",
        "    print(\"\")  "
      ],
      "metadata": {
        "colab": {
          "base_uri": "https://localhost:8080/"
        },
        "id": "9tMYiw7H2XXL",
        "outputId": "a3e4bff7-1ed3-409b-85dc-586ac81316e9"
      },
      "execution_count": 12,
      "outputs": [
        {
          "output_type": "stream",
          "name": "stdout",
          "text": [
            "Enter the number of rows: 5\n",
            "        * \n",
            "       * * \n",
            "      * * * \n",
            "     * * * * \n",
            "    * * * * * \n",
            "   * * * * * * \n",
            "    * * * * * \n",
            "     * * * * \n",
            "      * * * \n",
            "       * * \n",
            "        * \n"
          ]
        }
      ]
    },
    {
      "cell_type": "code",
      "source": [
        "print(\"The character pattern \")  \n",
        "asciiValue = int(input(\"Enter the ASCII value to print pattern: \"))  \n",
        "# User - define value  \n",
        "if (asciiValue >= 65 or asciiValue <=122):  \n",
        "    for i in range(0, 5):  \n",
        "        for j in range(0, i + 1):  \n",
        "            # It will convert the ASCII value to the character  \n",
        "            alphabate = chr(asciiValue)  \n",
        "            print(alphabate, end=' ')  \n",
        "        print()  \n",
        "else:  \n",
        "    print(\"Enter the valid character value\")  "
      ],
      "metadata": {
        "colab": {
          "base_uri": "https://localhost:8080/"
        },
        "id": "y_DbeoRu2az0",
        "outputId": "eb9952aa-efc0-456e-e471-7a32f773c6f1"
      },
      "execution_count": 14,
      "outputs": [
        {
          "output_type": "stream",
          "name": "stdout",
          "text": [
            "The character pattern \n",
            "Enter the ASCII value to print pattern: 88\n",
            "X \n",
            "X X \n",
            "X X X \n",
            "X X X X \n",
            "X X X X X \n"
          ]
        }
      ]
    },
    {
      "cell_type": "code",
      "source": [
        "print(\"Print equilateral triangle Pyramid with characters \")  \n",
        "s = 5  \n",
        "asciiValue = 65  \n",
        "m = (2 * s) - 2  \n",
        "for i in range(0, s):  \n",
        "    for j in range(0, m):  \n",
        "        print(end=\" \")  \n",
        "    # Decreased the value of after each iteration  \n",
        "    m = m - 1  \n",
        "    for j in range(0, i + 1):  \n",
        "        alphabate = chr(asciiValue)  \n",
        "        print(alphabate, end=' ')  \n",
        "        # Increase the ASCII number after each iteration  \n",
        "        asciiValue += 1  \n",
        "    print()  "
      ],
      "metadata": {
        "colab": {
          "base_uri": "https://localhost:8080/"
        },
        "id": "enFv8Xb93Dwl",
        "outputId": "0665d10e-100e-447d-a64a-64022822cd8d"
      },
      "execution_count": 15,
      "outputs": [
        {
          "output_type": "stream",
          "name": "stdout",
          "text": [
            "Print equilateral triangle Pyramid with characters \n",
            "        A \n",
            "       B C \n",
            "      D E F \n",
            "     G H I J \n",
            "    K L M N O \n"
          ]
        }
      ]
    }
  ]
}